{
 "cells": [
  {
   "cell_type": "code",
   "execution_count": 1,
   "id": "2c6c821c",
   "metadata": {},
   "outputs": [],
   "source": [
    "example_url = \"https://emariecovey-bucket.s3-us-west-1.amazonaws.com/user_data.csv\"\n",
    "\n",
    "#using google colab, load into dataframe"
   ]
  },
  {
   "cell_type": "code",
   "execution_count": null,
   "id": "003f947c",
   "metadata": {},
   "outputs": [],
   "source": []
  }
 ],
 "metadata": {
  "kernelspec": {
   "display_name": "PythonData",
   "language": "python",
   "name": "pythondata"
  },
  "language_info": {
   "codemirror_mode": {
    "name": "ipython",
    "version": 3
   },
   "file_extension": ".py",
   "mimetype": "text/x-python",
   "name": "python",
   "nbconvert_exporter": "python",
   "pygments_lexer": "ipython3",
   "version": "3.7.13"
  }
 },
 "nbformat": 4,
 "nbformat_minor": 5
}
